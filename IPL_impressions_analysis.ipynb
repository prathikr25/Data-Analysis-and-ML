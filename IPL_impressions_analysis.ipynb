{
 "cells": [
  {
   "cell_type": "code",
   "execution_count": 54,
   "metadata": {
    "collapsed": true
   },
   "outputs": [],
   "source": [
    "import numpy as np\n",
    "import pandas as pd\n",
    "import matplotlib.pyplot as plt\n",
    "import seaborn as sns\n",
    "from datetime import datetime, timedelta\n",
    "%matplotlib inline"
   ]
  },
  {
   "cell_type": "code",
   "execution_count": 31,
   "metadata": {
    "collapsed": false
   },
   "outputs": [
    {
     "data": {
      "text/html": [
       "<div>\n",
       "<table border=\"1\" class=\"dataframe\">\n",
       "  <thead>\n",
       "    <tr style=\"text-align: right;\">\n",
       "      <th></th>\n",
       "      <th>﻿Channel</th>\n",
       "      <th>Date</th>\n",
       "      <th>Start Time {Av(Tm)}</th>\n",
       "      <th>End Time {Av(Tm)}</th>\n",
       "      <th>Month</th>\n",
       "      <th>Length [sec] {Av}</th>\n",
       "      <th>Description</th>\n",
       "      <th>Ev. Type</th>\n",
       "      <th>Brand</th>\n",
       "      <th>Sector</th>\n",
       "      <th>Category</th>\n",
       "      <th>Advertiser</th>\n",
       "      <th>Impressions´000 {Av(Wg)}</th>\n",
       "      <th>Rate/10 Sec</th>\n",
       "      <th>Cost</th>\n",
       "    </tr>\n",
       "  </thead>\n",
       "  <tbody>\n",
       "    <tr>\n",
       "      <th>0</th>\n",
       "      <td>Sony MAX</td>\n",
       "      <td>05/04/2017</td>\n",
       "      <td>06:34:47 PM</td>\n",
       "      <td>06:35:02 PM</td>\n",
       "      <td>4</td>\n",
       "      <td>15</td>\n",
       "      <td>OPPO F3 PLUS</td>\n",
       "      <td>Commercial</td>\n",
       "      <td>OPPO F3 PLUS</td>\n",
       "      <td>Telecom Products</td>\n",
       "      <td>CELLULAR PHONES-SMART PHONES</td>\n",
       "      <td>OPPO INDIA</td>\n",
       "      <td>2,463.19</td>\n",
       "      <td>200,000</td>\n",
       "      <td>300,000</td>\n",
       "    </tr>\n",
       "    <tr>\n",
       "      <th>1</th>\n",
       "      <td>Sony MAX</td>\n",
       "      <td>05/04/2017</td>\n",
       "      <td>06:35:02 PM</td>\n",
       "      <td>06:35:12 PM</td>\n",
       "      <td>4</td>\n",
       "      <td>10</td>\n",
       "      <td>YAMAHA FZ 25</td>\n",
       "      <td>Commercial</td>\n",
       "      <td>YAMAHA FZ 25</td>\n",
       "      <td>Auto</td>\n",
       "      <td>AUTO-TWO WHEELERS</td>\n",
       "      <td>YAMAHA MOTOR INDIA PVT LTD</td>\n",
       "      <td>2,006.82</td>\n",
       "      <td>200,000</td>\n",
       "      <td>200,000</td>\n",
       "    </tr>\n",
       "    <tr>\n",
       "      <th>2</th>\n",
       "      <td>Sony MAX</td>\n",
       "      <td>05/04/2017</td>\n",
       "      <td>06:35:12 PM</td>\n",
       "      <td>06:35:42 PM</td>\n",
       "      <td>4</td>\n",
       "      <td>30</td>\n",
       "      <td>JIO DIGITAL LIFE</td>\n",
       "      <td>Commercial</td>\n",
       "      <td>JIO DIGITAL LIFE</td>\n",
       "      <td>Telecom/Internet Service Providers</td>\n",
       "      <td>CELLULAR PHONE SERVICE</td>\n",
       "      <td>RELIANCE JIO INFOCOMM LTD</td>\n",
       "      <td>2,006.82</td>\n",
       "      <td>200,000</td>\n",
       "      <td>600,000</td>\n",
       "    </tr>\n",
       "    <tr>\n",
       "      <th>3</th>\n",
       "      <td>Sony MAX</td>\n",
       "      <td>05/04/2017</td>\n",
       "      <td>06:35:42 PM</td>\n",
       "      <td>06:36:12 PM</td>\n",
       "      <td>4</td>\n",
       "      <td>30</td>\n",
       "      <td>AMUL ICE CREAM</td>\n",
       "      <td>Commercial</td>\n",
       "      <td>AMUL ICE CREAM</td>\n",
       "      <td>Food &amp; Beverages</td>\n",
       "      <td>ICE CREAM/FROZEN DESSERTS</td>\n",
       "      <td>GCMMF (GUJ COOP MILK MKT FED)</td>\n",
       "      <td>1,966.16</td>\n",
       "      <td>200,000</td>\n",
       "      <td>600,000</td>\n",
       "    </tr>\n",
       "    <tr>\n",
       "      <th>4</th>\n",
       "      <td>Sony MAX</td>\n",
       "      <td>05/04/2017</td>\n",
       "      <td>06:36:12 PM</td>\n",
       "      <td>06:36:27 PM</td>\n",
       "      <td>4</td>\n",
       "      <td>15</td>\n",
       "      <td>OPPO F3 PLUS</td>\n",
       "      <td>Commercial</td>\n",
       "      <td>OPPO F3 PLUS</td>\n",
       "      <td>Telecom Products</td>\n",
       "      <td>CELLULAR PHONES-SMART PHONES</td>\n",
       "      <td>OPPO INDIA</td>\n",
       "      <td>1,905.15</td>\n",
       "      <td>200,000</td>\n",
       "      <td>300,000</td>\n",
       "    </tr>\n",
       "  </tbody>\n",
       "</table>\n",
       "</div>"
      ],
      "text/plain": [
       "   ﻿Channel        Date Start Time {Av(Tm)} End Time {Av(Tm)}  Month  \\\n",
       "0  Sony MAX  05/04/2017         06:34:47 PM       06:35:02 PM      4   \n",
       "1  Sony MAX  05/04/2017         06:35:02 PM       06:35:12 PM      4   \n",
       "2  Sony MAX  05/04/2017         06:35:12 PM       06:35:42 PM      4   \n",
       "3  Sony MAX  05/04/2017         06:35:42 PM       06:36:12 PM      4   \n",
       "4  Sony MAX  05/04/2017         06:36:12 PM       06:36:27 PM      4   \n",
       "\n",
       "   Length [sec] {Av}       Description    Ev. Type             Brand  \\\n",
       "0                 15      OPPO F3 PLUS  Commercial      OPPO F3 PLUS   \n",
       "1                 10      YAMAHA FZ 25  Commercial      YAMAHA FZ 25   \n",
       "2                 30  JIO DIGITAL LIFE  Commercial  JIO DIGITAL LIFE   \n",
       "3                 30    AMUL ICE CREAM  Commercial    AMUL ICE CREAM   \n",
       "4                 15      OPPO F3 PLUS  Commercial      OPPO F3 PLUS   \n",
       "\n",
       "                               Sector                      Category  \\\n",
       "0                    Telecom Products  CELLULAR PHONES-SMART PHONES   \n",
       "1                                Auto             AUTO-TWO WHEELERS   \n",
       "2  Telecom/Internet Service Providers        CELLULAR PHONE SERVICE   \n",
       "3                    Food & Beverages     ICE CREAM/FROZEN DESSERTS   \n",
       "4                    Telecom Products  CELLULAR PHONES-SMART PHONES   \n",
       "\n",
       "                      Advertiser Impressions´000 {Av(Wg)} Rate/10 Sec  \\\n",
       "0                     OPPO INDIA                 2,463.19    200,000    \n",
       "1     YAMAHA MOTOR INDIA PVT LTD                 2,006.82    200,000    \n",
       "2      RELIANCE JIO INFOCOMM LTD                 2,006.82    200,000    \n",
       "3  GCMMF (GUJ COOP MILK MKT FED)                 1,966.16    200,000    \n",
       "4                     OPPO INDIA                 1,905.15    200,000    \n",
       "\n",
       "        Cost  \n",
       "0   300,000   \n",
       "1   200,000   \n",
       "2   600,000   \n",
       "3   600,000   \n",
       "4   300,000   "
      ]
     },
     "execution_count": 31,
     "metadata": {},
     "output_type": "execute_result"
    }
   ],
   "source": [
    "ipl_data = pd.read_csv('C:/Users/prathik/Documents/Data Science Super Specialization/IPL 2017 - Adv Report v1.csv')\n",
    "ipl_data.head(5)"
   ]
  },
  {
   "cell_type": "code",
   "execution_count": 32,
   "metadata": {
    "collapsed": false
   },
   "outputs": [
    {
     "name": "stdout",
     "output_type": "stream",
     "text": [
      "<class 'pandas.core.frame.DataFrame'>\n",
      "RangeIndex: 58924 entries, 0 to 58923\n",
      "Data columns (total 15 columns):\n",
      "﻿Channel                    58924 non-null object\n",
      "Date                        58924 non-null object\n",
      "Start Time {Av(Tm)}         58924 non-null object\n",
      "End Time {Av(Tm)}           58924 non-null object\n",
      "Month                       58924 non-null int64\n",
      "Length [sec] {Av}           58924 non-null int64\n",
      "Description                 58924 non-null object\n",
      "Ev. Type                    58924 non-null object\n",
      "Brand                       58924 non-null object\n",
      "Sector                      58924 non-null object\n",
      "Category                    58924 non-null object\n",
      "Advertiser                  58924 non-null object\n",
      "Impressions´000 {Av(Wg)}    58924 non-null object\n",
      "Rate/10 Sec                 58924 non-null object\n",
      "Cost                        58924 non-null object\n",
      "dtypes: int64(2), object(13)\n",
      "memory usage: 6.7+ MB\n"
     ]
    }
   ],
   "source": [
    "ipl_data.info()"
   ]
  },
  {
   "cell_type": "code",
   "execution_count": 33,
   "metadata": {
    "collapsed": false
   },
   "outputs": [
    {
     "data": {
      "text/html": [
       "<div>\n",
       "<table border=\"1\" class=\"dataframe\">\n",
       "  <thead>\n",
       "    <tr style=\"text-align: right;\">\n",
       "      <th></th>\n",
       "      <th>﻿Channel</th>\n",
       "      <th>Date</th>\n",
       "      <th>Start Time {Av(Tm)}</th>\n",
       "      <th>End Time {Av(Tm)}</th>\n",
       "      <th>Month</th>\n",
       "      <th>Length [sec] {Av}</th>\n",
       "      <th>Description</th>\n",
       "      <th>Ev. Type</th>\n",
       "      <th>Brand</th>\n",
       "      <th>Sector</th>\n",
       "      <th>Category</th>\n",
       "      <th>Advertiser</th>\n",
       "      <th>Impressions´000 {Av(Wg)}</th>\n",
       "      <th>Rate/10 Sec</th>\n",
       "      <th>Cost</th>\n",
       "    </tr>\n",
       "    <tr>\n",
       "      <th>Date</th>\n",
       "      <th></th>\n",
       "      <th></th>\n",
       "      <th></th>\n",
       "      <th></th>\n",
       "      <th></th>\n",
       "      <th></th>\n",
       "      <th></th>\n",
       "      <th></th>\n",
       "      <th></th>\n",
       "      <th></th>\n",
       "      <th></th>\n",
       "      <th></th>\n",
       "      <th></th>\n",
       "      <th></th>\n",
       "      <th></th>\n",
       "    </tr>\n",
       "  </thead>\n",
       "  <tbody>\n",
       "    <tr>\n",
       "      <th>2017-05-04</th>\n",
       "      <td>Sony MAX</td>\n",
       "      <td>05/04/2017</td>\n",
       "      <td>06:34:47 PM</td>\n",
       "      <td>06:35:02 PM</td>\n",
       "      <td>4</td>\n",
       "      <td>15</td>\n",
       "      <td>OPPO F3 PLUS</td>\n",
       "      <td>Commercial</td>\n",
       "      <td>OPPO F3 PLUS</td>\n",
       "      <td>Telecom Products</td>\n",
       "      <td>CELLULAR PHONES-SMART PHONES</td>\n",
       "      <td>OPPO INDIA</td>\n",
       "      <td>2463.19</td>\n",
       "      <td>200000</td>\n",
       "      <td>300000</td>\n",
       "    </tr>\n",
       "    <tr>\n",
       "      <th>2017-05-04</th>\n",
       "      <td>Sony MAX</td>\n",
       "      <td>05/04/2017</td>\n",
       "      <td>06:35:02 PM</td>\n",
       "      <td>06:35:12 PM</td>\n",
       "      <td>4</td>\n",
       "      <td>10</td>\n",
       "      <td>YAMAHA FZ 25</td>\n",
       "      <td>Commercial</td>\n",
       "      <td>YAMAHA FZ 25</td>\n",
       "      <td>Auto</td>\n",
       "      <td>AUTO-TWO WHEELERS</td>\n",
       "      <td>YAMAHA MOTOR INDIA PVT LTD</td>\n",
       "      <td>2006.82</td>\n",
       "      <td>200000</td>\n",
       "      <td>200000</td>\n",
       "    </tr>\n",
       "    <tr>\n",
       "      <th>2017-05-04</th>\n",
       "      <td>Sony MAX</td>\n",
       "      <td>05/04/2017</td>\n",
       "      <td>06:35:12 PM</td>\n",
       "      <td>06:35:42 PM</td>\n",
       "      <td>4</td>\n",
       "      <td>30</td>\n",
       "      <td>JIO DIGITAL LIFE</td>\n",
       "      <td>Commercial</td>\n",
       "      <td>JIO DIGITAL LIFE</td>\n",
       "      <td>Telecom/Internet Service Providers</td>\n",
       "      <td>CELLULAR PHONE SERVICE</td>\n",
       "      <td>RELIANCE JIO INFOCOMM LTD</td>\n",
       "      <td>2006.82</td>\n",
       "      <td>200000</td>\n",
       "      <td>600000</td>\n",
       "    </tr>\n",
       "    <tr>\n",
       "      <th>2017-05-04</th>\n",
       "      <td>Sony MAX</td>\n",
       "      <td>05/04/2017</td>\n",
       "      <td>06:35:42 PM</td>\n",
       "      <td>06:36:12 PM</td>\n",
       "      <td>4</td>\n",
       "      <td>30</td>\n",
       "      <td>AMUL ICE CREAM</td>\n",
       "      <td>Commercial</td>\n",
       "      <td>AMUL ICE CREAM</td>\n",
       "      <td>Food &amp; Beverages</td>\n",
       "      <td>ICE CREAM/FROZEN DESSERTS</td>\n",
       "      <td>GCMMF (GUJ COOP MILK MKT FED)</td>\n",
       "      <td>1966.16</td>\n",
       "      <td>200000</td>\n",
       "      <td>600000</td>\n",
       "    </tr>\n",
       "    <tr>\n",
       "      <th>2017-05-04</th>\n",
       "      <td>Sony MAX</td>\n",
       "      <td>05/04/2017</td>\n",
       "      <td>06:36:12 PM</td>\n",
       "      <td>06:36:27 PM</td>\n",
       "      <td>4</td>\n",
       "      <td>15</td>\n",
       "      <td>OPPO F3 PLUS</td>\n",
       "      <td>Commercial</td>\n",
       "      <td>OPPO F3 PLUS</td>\n",
       "      <td>Telecom Products</td>\n",
       "      <td>CELLULAR PHONES-SMART PHONES</td>\n",
       "      <td>OPPO INDIA</td>\n",
       "      <td>1905.15</td>\n",
       "      <td>200000</td>\n",
       "      <td>300000</td>\n",
       "    </tr>\n",
       "  </tbody>\n",
       "</table>\n",
       "</div>"
      ],
      "text/plain": [
       "            ﻿Channel        Date Start Time {Av(Tm)} End Time {Av(Tm)}  Month  \\\n",
       "Date                                                                            \n",
       "2017-05-04  Sony MAX  05/04/2017         06:34:47 PM       06:35:02 PM      4   \n",
       "2017-05-04  Sony MAX  05/04/2017         06:35:02 PM       06:35:12 PM      4   \n",
       "2017-05-04  Sony MAX  05/04/2017         06:35:12 PM       06:35:42 PM      4   \n",
       "2017-05-04  Sony MAX  05/04/2017         06:35:42 PM       06:36:12 PM      4   \n",
       "2017-05-04  Sony MAX  05/04/2017         06:36:12 PM       06:36:27 PM      4   \n",
       "\n",
       "            Length [sec] {Av}       Description    Ev. Type             Brand  \\\n",
       "Date                                                                            \n",
       "2017-05-04                 15      OPPO F3 PLUS  Commercial      OPPO F3 PLUS   \n",
       "2017-05-04                 10      YAMAHA FZ 25  Commercial      YAMAHA FZ 25   \n",
       "2017-05-04                 30  JIO DIGITAL LIFE  Commercial  JIO DIGITAL LIFE   \n",
       "2017-05-04                 30    AMUL ICE CREAM  Commercial    AMUL ICE CREAM   \n",
       "2017-05-04                 15      OPPO F3 PLUS  Commercial      OPPO F3 PLUS   \n",
       "\n",
       "                                        Sector                      Category  \\\n",
       "Date                                                                           \n",
       "2017-05-04                    Telecom Products  CELLULAR PHONES-SMART PHONES   \n",
       "2017-05-04                                Auto             AUTO-TWO WHEELERS   \n",
       "2017-05-04  Telecom/Internet Service Providers        CELLULAR PHONE SERVICE   \n",
       "2017-05-04                    Food & Beverages     ICE CREAM/FROZEN DESSERTS   \n",
       "2017-05-04                    Telecom Products  CELLULAR PHONES-SMART PHONES   \n",
       "\n",
       "                               Advertiser  Impressions´000 {Av(Wg)}  \\\n",
       "Date                                                                  \n",
       "2017-05-04                     OPPO INDIA                   2463.19   \n",
       "2017-05-04     YAMAHA MOTOR INDIA PVT LTD                   2006.82   \n",
       "2017-05-04      RELIANCE JIO INFOCOMM LTD                   2006.82   \n",
       "2017-05-04  GCMMF (GUJ COOP MILK MKT FED)                   1966.16   \n",
       "2017-05-04                     OPPO INDIA                   1905.15   \n",
       "\n",
       "            Rate/10 Sec    Cost  \n",
       "Date                             \n",
       "2017-05-04       200000  300000  \n",
       "2017-05-04       200000  200000  \n",
       "2017-05-04       200000  600000  \n",
       "2017-05-04       200000  600000  \n",
       "2017-05-04       200000  300000  "
      ]
     },
     "execution_count": 33,
     "metadata": {},
     "output_type": "execute_result"
    }
   ],
   "source": [
    "ipl_data.index = pd.to_datetime(ipl_data['Date'])\n",
    "ipl_data['Cost'] = ipl_data['Cost'].str.replace(',',\"\")\n",
    "ipl_data[\"Impressions´000 {Av(Wg)}\"] = ipl_data[\"Impressions´000 {Av(Wg)}\"].str.replace(',',\"\")\n",
    "ipl_data['Rate/10 Sec'] = ipl_data['Rate/10 Sec'].str.replace(',',\"\")\n",
    "ipl_data[\"Impressions´000 {Av(Wg)}\"] = ipl_data[\"Impressions´000 {Av(Wg)}\"].astype('float64')\n",
    "ipl_data['Rate/10 Sec'] = ipl_data['Rate/10 Sec'].astype(int)\n",
    "ipl_data['Cost'] = ipl_data['Cost'].astype(int)\n",
    "ipl_data.head(5)"
   ]
  },
  {
   "cell_type": "code",
   "execution_count": 35,
   "metadata": {
    "collapsed": false
   },
   "outputs": [
    {
     "data": {
      "text/plain": [
       "'Impressions´000 {Av(Wg)}'"
      ]
     },
     "execution_count": 35,
     "metadata": {},
     "output_type": "execute_result"
    }
   ],
   "source": [
    "ipl_data.columns[12]"
   ]
  },
  {
   "cell_type": "code",
   "execution_count": 36,
   "metadata": {
    "collapsed": false
   },
   "outputs": [
    {
     "data": {
      "text/plain": [
       "Category\n",
       "TRAVEL & TOURISM             13260.870000\n",
       "SHAVING SYSTEM/RAZOR          7782.741419\n",
       "FOOTWEAR                      7519.209965\n",
       "SUITINGS                      6579.834037\n",
       "PAINTS                        6427.598038\n",
       "LIGHTING PRODUCTS             6232.779704\n",
       "FANS                          5232.157967\n",
       "PROPERTIES/REAL ESTATES       4768.112248\n",
       "AUTO-TWO WHEELERS             4736.939344\n",
       "ELECTRICAL SWITCHES/PARTS     4710.872556\n",
       "Name: Impressions, dtype: float64"
      ]
     },
     "execution_count": 36,
     "metadata": {},
     "output_type": "execute_result"
    }
   ],
   "source": [
    "names=ipl_data.columns.tolist()\n",
    "names[names.index('Impressions´000 {Av(Wg)}')]='Impressions'\n",
    "ipl_data.columns=names\n",
    "categorywise_data=ipl_data.groupby('Category').Impressions.mean()\n",
    "categorywise_data.sort_values(ascending=False).head(10)"
   ]
  },
  {
   "cell_type": "code",
   "execution_count": 37,
   "metadata": {
    "collapsed": false
   },
   "outputs": [
    {
     "data": {
      "text/plain": [
       "'Channel'"
      ]
     },
     "execution_count": 37,
     "metadata": {},
     "output_type": "execute_result"
    }
   ],
   "source": [
    "names=ipl_data.columns.tolist()\n",
    "names[names.index('\\ufeffChannel')]='Channel'\n",
    "ipl_data.columns=names\n",
    "ipl_data.columns[0]\n"
   ]
  },
  {
   "cell_type": "code",
   "execution_count": 38,
   "metadata": {
    "collapsed": false
   },
   "outputs": [
    {
     "data": {
      "text/plain": [
       "Channel\n",
       "Sony MAX       6831.787749\n",
       "Sony SIX HD      79.919189\n",
       "Sony SIX(v)    2355.721386\n",
       "Name: Impressions, dtype: float64"
      ]
     },
     "execution_count": 38,
     "metadata": {},
     "output_type": "execute_result"
    }
   ],
   "source": [
    "Channel_data=ipl_data.groupby(\"Channel\").Impressions.mean()\n",
    "Channel_data"
   ]
  },
  {
   "cell_type": "code",
   "execution_count": 39,
   "metadata": {
    "collapsed": true
   },
   "outputs": [],
   "source": [
    "labels='Sony Max','Sony Six HD','Sony Six (V)'\n",
    "explode=(0.2,0.4,0.1)"
   ]
  },
  {
   "cell_type": "code",
   "execution_count": 395,
   "metadata": {
    "collapsed": false
   },
   "outputs": [
    {
     "data": {
      "image/png": "[encoded data removed]",
      "text/plain": [
       "<matplotlib.figure.Figure at 0x26f29eda588>"
      ]
     },
     "metadata": {},
     "output_type": "display_data"
    }
   ],
   "source": [
    "\n",
    "plt.pie(Channel_data, labels=labels, explode=explode , autopct='%1.1f%%',\n",
    "        shadow=True, startangle=90)\n",
    "plt.title('Channel-wise Impressions', bbox={'facecolor':'0.8', 'pad':5})\n",
    "\n",
    "\n",
    "plt.show()"
   ]
  },
  {
   "cell_type": "code",
   "execution_count": 396,
   "metadata": {
    "collapsed": false
   },
   "outputs": [
    {
     "data": {
      "text/html": [
       "<div>\n",
       "<table border=\"1\" class=\"dataframe\">\n",
       "  <thead>\n",
       "    <tr style=\"text-align: right;\">\n",
       "      <th>Sector</th>\n",
       "      <th>Alcoholic Drinks</th>\n",
       "      <th>Auto</th>\n",
       "      <th>Banking/Finance/Investment</th>\n",
       "      <th>Building, Industrial &amp; Land Materials/Equipments</th>\n",
       "      <th>Corporate/Brand Image</th>\n",
       "      <th>Cosmetics</th>\n",
       "      <th>Durables</th>\n",
       "      <th>Education</th>\n",
       "      <th>Food &amp; Beverages</th>\n",
       "      <th>Fuel/Petroleum Products</th>\n",
       "      <th>...</th>\n",
       "      <th>Laundry</th>\n",
       "      <th>Miscellaneous</th>\n",
       "      <th>Personal Accessories</th>\n",
       "      <th>Personal Care/Personal Hygiene</th>\n",
       "      <th>Personal Healthcare</th>\n",
       "      <th>Retail</th>\n",
       "      <th>Services</th>\n",
       "      <th>Telecom Products</th>\n",
       "      <th>Telecom/Internet Service Providers</th>\n",
       "      <th>Textiles/Clothing</th>\n",
       "    </tr>\n",
       "    <tr>\n",
       "      <th>Channel</th>\n",
       "      <th></th>\n",
       "      <th></th>\n",
       "      <th></th>\n",
       "      <th></th>\n",
       "      <th></th>\n",
       "      <th></th>\n",
       "      <th></th>\n",
       "      <th></th>\n",
       "      <th></th>\n",
       "      <th></th>\n",
       "      <th></th>\n",
       "      <th></th>\n",
       "      <th></th>\n",
       "      <th></th>\n",
       "      <th></th>\n",
       "      <th></th>\n",
       "      <th></th>\n",
       "      <th></th>\n",
       "      <th></th>\n",
       "      <th></th>\n",
       "      <th></th>\n",
       "    </tr>\n",
       "  </thead>\n",
       "  <tbody>\n",
       "    <tr>\n",
       "      <th>Sony MAX</th>\n",
       "      <td>12365.04</td>\n",
       "      <td>7922.46</td>\n",
       "      <td>12288.97</td>\n",
       "      <td>12884.50</td>\n",
       "      <td>836.41</td>\n",
       "      <td>530.94</td>\n",
       "      <td>2213.59</td>\n",
       "      <td>1095.94</td>\n",
       "      <td>2275.60</td>\n",
       "      <td>11535.20</td>\n",
       "      <td>...</td>\n",
       "      <td>1788.81</td>\n",
       "      <td>2913.49</td>\n",
       "      <td>11136.01</td>\n",
       "      <td>1714.39</td>\n",
       "      <td>1111.08</td>\n",
       "      <td>563.35</td>\n",
       "      <td>5723.58</td>\n",
       "      <td>10184.82</td>\n",
       "      <td>2348.78</td>\n",
       "      <td>5026.01</td>\n",
       "    </tr>\n",
       "    <tr>\n",
       "      <th>Sony SIX HD</th>\n",
       "      <td>4.67</td>\n",
       "      <td>84.76</td>\n",
       "      <td>118.97</td>\n",
       "      <td>71.67</td>\n",
       "      <td>17.73</td>\n",
       "      <td>NaN</td>\n",
       "      <td>69.64</td>\n",
       "      <td>106.27</td>\n",
       "      <td>41.15</td>\n",
       "      <td>1.74</td>\n",
       "      <td>...</td>\n",
       "      <td>26.49</td>\n",
       "      <td>13.62</td>\n",
       "      <td>9.83</td>\n",
       "      <td>15.56</td>\n",
       "      <td>22.33</td>\n",
       "      <td>134.64</td>\n",
       "      <td>104.17</td>\n",
       "      <td>100.88</td>\n",
       "      <td>91.30</td>\n",
       "      <td>18.36</td>\n",
       "    </tr>\n",
       "    <tr>\n",
       "      <th>Sony SIX(v)</th>\n",
       "      <td>452.90</td>\n",
       "      <td>3268.94</td>\n",
       "      <td>2855.80</td>\n",
       "      <td>2708.86</td>\n",
       "      <td>528.93</td>\n",
       "      <td>NaN</td>\n",
       "      <td>1524.13</td>\n",
       "      <td>493.81</td>\n",
       "      <td>2354.20</td>\n",
       "      <td>559.94</td>\n",
       "      <td>...</td>\n",
       "      <td>602.92</td>\n",
       "      <td>369.03</td>\n",
       "      <td>3058.71</td>\n",
       "      <td>455.79</td>\n",
       "      <td>366.02</td>\n",
       "      <td>551.09</td>\n",
       "      <td>3003.13</td>\n",
       "      <td>3480.19</td>\n",
       "      <td>2860.73</td>\n",
       "      <td>712.42</td>\n",
       "    </tr>\n",
       "  </tbody>\n",
       "</table>\n",
       "<p>3 rows × 21 columns</p>\n",
       "</div>"
      ],
      "text/plain": [
       "Sector       Alcoholic Drinks     Auto  Banking/Finance/Investment  \\\n",
       "Channel                                                              \n",
       "Sony MAX             12365.04  7922.46                    12288.97   \n",
       "Sony SIX HD              4.67    84.76                      118.97   \n",
       "Sony SIX(v)            452.90  3268.94                     2855.80   \n",
       "\n",
       "Sector       Building, Industrial & Land Materials/Equipments  \\\n",
       "Channel                                                         \n",
       "Sony MAX                                             12884.50   \n",
       "Sony SIX HD                                             71.67   \n",
       "Sony SIX(v)                                           2708.86   \n",
       "\n",
       "Sector       Corporate/Brand Image  Cosmetics  Durables  Education  \\\n",
       "Channel                                                              \n",
       "Sony MAX                    836.41     530.94   2213.59    1095.94   \n",
       "Sony SIX HD                  17.73        NaN     69.64     106.27   \n",
       "Sony SIX(v)                 528.93        NaN   1524.13     493.81   \n",
       "\n",
       "Sector       Food & Beverages  Fuel/Petroleum Products        ...          \\\n",
       "Channel                                                       ...           \n",
       "Sony MAX              2275.60                 11535.20        ...           \n",
       "Sony SIX HD             41.15                     1.74        ...           \n",
       "Sony SIX(v)           2354.20                   559.94        ...           \n",
       "\n",
       "Sector       Laundry  Miscellaneous  Personal Accessories  \\\n",
       "Channel                                                     \n",
       "Sony MAX     1788.81        2913.49              11136.01   \n",
       "Sony SIX HD    26.49          13.62                  9.83   \n",
       "Sony SIX(v)   602.92         369.03               3058.71   \n",
       "\n",
       "Sector       Personal Care/Personal Hygiene  Personal Healthcare  Retail  \\\n",
       "Channel                                                                    \n",
       "Sony MAX                            1714.39              1111.08  563.35   \n",
       "Sony SIX HD                           15.56                22.33  134.64   \n",
       "Sony SIX(v)                          455.79               366.02  551.09   \n",
       "\n",
       "Sector       Services  Telecom Products  Telecom/Internet Service Providers  \\\n",
       "Channel                                                                       \n",
       "Sony MAX      5723.58          10184.82                             2348.78   \n",
       "Sony SIX HD    104.17            100.88                               91.30   \n",
       "Sony SIX(v)   3003.13           3480.19                             2860.73   \n",
       "\n",
       "Sector       Textiles/Clothing  \n",
       "Channel                         \n",
       "Sony MAX               5026.01  \n",
       "Sony SIX HD              18.36  \n",
       "Sony SIX(v)             712.42  \n",
       "\n",
       "[3 rows x 21 columns]"
      ]
     },
     "execution_count": 396,
     "metadata": {},
     "output_type": "execute_result"
    }
   ],
   "source": [
    "impressions_by_sector_across_channels_table = pd.pivot_table(ipl_data, values='Impressions', index=['Channel'],columns=['Sector'], aggfunc=np.median)\n",
    "round(impressions_by_sector_across_channels_table,2)"
   ]
  },
  {
   "cell_type": "code",
   "execution_count": 397,
   "metadata": {
    "collapsed": false
   },
   "outputs": [
    {
     "data": {
      "image/png": "[encoded data removed]",
      "text/plain": [
       "<matplotlib.figure.Figure at 0x26f2a412fd0>"
      ]
     },
     "metadata": {},
     "output_type": "display_data"
    }
   ],
   "source": [
    "# company spends\n",
    "ipl_tel_grp_p = impressions_by_sector_across_channels_table[[\"Alcoholic Drinks\",\"Banking/Finance/Investment\",\"Telecom/Internet Service Providers\",\"Food & Beverages\",\"Auto\"]].plot(title = 'Sector-Wise Impressions Across Channel')\n",
    "ipl_tel_grp_p = ipl_tel_grp_p.get_figure()\n",
    "ipl_tel_grp_p.set_size_inches(22, 12)"
   ]
  },
  {
   "cell_type": "code",
   "execution_count": null,
   "metadata": {
    "collapsed": false
   },
   "outputs": [],
   "source": [
    "impressions_vs_length = pd.pivot_table(ipl_data, values='Impressions', index=['Channel'],columns=['Length [sec] {Av}'], aggfunc=np.median)\n",
    "round(impressions_vs_length,2)"
   ]
  },
  {
   "cell_type": "code",
   "execution_count": 398,
   "metadata": {
    "collapsed": false
   },
   "outputs": [
    {
     "data": {
      "text/html": [
       "<div>\n",
       "<table border=\"1\" class=\"dataframe\">\n",
       "  <thead>\n",
       "    <tr style=\"text-align: right;\">\n",
       "      <th></th>\n",
       "      <th>Month</th>\n",
       "      <th>Length [sec] {Av}</th>\n",
       "      <th>Impressions</th>\n",
       "      <th>Rate/10 Sec</th>\n",
       "      <th>Cost</th>\n",
       "    </tr>\n",
       "  </thead>\n",
       "  <tbody>\n",
       "    <tr>\n",
       "      <th>Month</th>\n",
       "      <td>1.00</td>\n",
       "      <td>-0.06</td>\n",
       "      <td>-0.04</td>\n",
       "      <td>NaN</td>\n",
       "      <td>-0.06</td>\n",
       "    </tr>\n",
       "    <tr>\n",
       "      <th>Length [sec] {Av}</th>\n",
       "      <td>-0.06</td>\n",
       "      <td>1.00</td>\n",
       "      <td>-0.04</td>\n",
       "      <td>NaN</td>\n",
       "      <td>1.00</td>\n",
       "    </tr>\n",
       "    <tr>\n",
       "      <th>Impressions</th>\n",
       "      <td>-0.04</td>\n",
       "      <td>-0.04</td>\n",
       "      <td>1.00</td>\n",
       "      <td>NaN</td>\n",
       "      <td>-0.04</td>\n",
       "    </tr>\n",
       "    <tr>\n",
       "      <th>Rate/10 Sec</th>\n",
       "      <td>NaN</td>\n",
       "      <td>NaN</td>\n",
       "      <td>NaN</td>\n",
       "      <td>NaN</td>\n",
       "      <td>NaN</td>\n",
       "    </tr>\n",
       "    <tr>\n",
       "      <th>Cost</th>\n",
       "      <td>-0.06</td>\n",
       "      <td>1.00</td>\n",
       "      <td>-0.04</td>\n",
       "      <td>NaN</td>\n",
       "      <td>1.00</td>\n",
       "    </tr>\n",
       "  </tbody>\n",
       "</table>\n",
       "</div>"
      ],
      "text/plain": [
       "                   Month  Length [sec] {Av}  Impressions  Rate/10 Sec  Cost\n",
       "Month               1.00              -0.06        -0.04          NaN -0.06\n",
       "Length [sec] {Av}  -0.06               1.00        -0.04          NaN  1.00\n",
       "Impressions        -0.04              -0.04         1.00          NaN -0.04\n",
       "Rate/10 Sec          NaN                NaN          NaN          NaN   NaN\n",
       "Cost               -0.06               1.00        -0.04          NaN  1.00"
      ]
     },
     "execution_count": 398,
     "metadata": {},
     "output_type": "execute_result"
    }
   ],
   "source": [
    "round(ipl_data.corr(),2)"
   ]
  },
  {
   "cell_type": "code",
   "execution_count": 399,
   "metadata": {
    "collapsed": false
   },
   "outputs": [
    {
     "name": "stdout",
     "output_type": "stream",
     "text": [
      "Sector\n",
      "Personal Accessories                                5799.495676\n",
      "Telecom Products                                    4552.294885\n",
      "Auto                                                4237.403729\n",
      "Building, Industrial & Land Materials/Equipments    4103.338717\n",
      "Food & Beverages                                    3368.243713\n",
      "Telecom/Internet Service Providers                  3341.628117\n",
      "Services                                            3311.934345\n",
      "Textiles/Clothing                                   2756.636138\n",
      "Banking/Finance/Investment                          2729.126342\n",
      "Durables                                            2627.378888\n",
      "Name: Impressions, dtype: float64\n"
     ]
    },
    {
     "data": {
      "text/plain": [
       "Sector\n",
       "Alcoholic Drinks                  1326.013103\n",
       "Personal Care/Personal Hygiene    1292.736245\n",
       "Corporate/Brand Image             1273.590445\n",
       "Laundry                           1000.428687\n",
       "Hair Care                          728.616023\n",
       "Personal Healthcare                636.194911\n",
       "Miscellaneous                      531.768469\n",
       "Cosmetics                          472.266000\n",
       "Education                          412.583067\n",
       "Retail                             189.798114\n",
       "Name: Impressions, dtype: float64"
      ]
     },
     "execution_count": 399,
     "metadata": {},
     "output_type": "execute_result"
    }
   ],
   "source": [
    "\n",
    "sectorwise_data=ipl_data.groupby('Sector').Impressions.mean()\n",
    "print(sectorwise_data.sort_values(ascending=False).head(10))\n",
    "sectorwise_data.sort_values(ascending=False).tail(10)\n"
   ]
  },
  {
   "cell_type": "code",
   "execution_count": 400,
   "metadata": {
    "collapsed": false
   },
   "outputs": [
    {
     "name": "stdout",
     "output_type": "stream",
     "text": [
      "Brand\n",
      "PIRATES OF THE CARIBBEAN SALAZARS REVENG    16037.155000\n",
      "KERALA TOURISM                              13260.870000\n",
      "LEWIS BERGER EXPRESS PAINTING                9566.124000\n",
      "PEPSI                                        9292.339310\n",
      "LEWIS BERGER WEATHERCOAT ANTI DUST PAINT     9260.749863\n",
      "TVS SPORT                                    8799.607862\n",
      "NEROLAC IMPRESSION HD COLOR                  8729.047016\n",
      "DOLLAR CLUB BIG BOSS                         8579.701686\n",
      "SPORTO                                       8577.734110\n",
      "VKC WALKAROO                                 8387.589615\n",
      "Name: Impressions, dtype: float64\n"
     ]
    },
    {
     "data": {
      "text/plain": [
       "Brand\n",
       "DR FIXIT PIDIPROOF LW PLUS/PIDICRETE URP    134.549667\n",
       "SAMSUNG QLED TV                             132.916882\n",
       "LLOYD AC                                    130.013242\n",
       "NIVEA MEN BODY DEODORIZER                   128.640127\n",
       "CB-DR FIXIT WATERPROOFING-BAHUBALI 2        126.328750\n",
       "NIVEA MEN DARK SPOT REDUCTION CREME         117.163036\n",
       "LLOYD LED TV                                116.959091\n",
       "KARA SKINCARE WIPES                         114.405000\n",
       "SACHIN A BILLION DREAMS                     103.791714\n",
       "TASTY TREAT BHUJIA                           80.324000\n",
       "Name: Impressions, dtype: float64"
      ]
     },
     "execution_count": 400,
     "metadata": {},
     "output_type": "execute_result"
    }
   ],
   "source": [
    "brandwise_data=ipl_data.groupby('Brand').Impressions.mean()\n",
    "print(brandwise_data.sort_values(ascending=False).head(10))\n",
    "brandwise_data.sort_values(ascending=False).tail(10)"
   ]
  },
  {
   "cell_type": "code",
   "execution_count": 401,
   "metadata": {
    "collapsed": false
   },
   "outputs": [
    {
     "name": "stdout",
     "output_type": "stream",
     "text": [
      "Advertiser\n",
      "WALT DISNEY STUDIOS MOTION PICTURES    16037.155000\n",
      "KERALA TOURISM DEVP CORP               13260.870000\n",
      "PEPSI CO                                9292.339310\n",
      "BERGER PAINTS                           9167.781788\n",
      "KANSAI NEROLAC PAINTS LTD               8514.219194\n",
      "DOLLAR INDUSTRIES LTD                   8326.251258\n",
      "GILLETTE INDIA LTD                      7782.741419\n",
      "VEEKESY RUBBER INDUSTRIES               7519.209965\n",
      "J G HOSIERY (P) LTD                     7447.945455\n",
      "HITACHI HOME & LIFE SOLUTIONS           6860.618755\n",
      "Name: Impressions, dtype: float64\n"
     ]
    },
    {
     "data": {
      "text/plain": [
       "Advertiser\n",
       "PANASONIC INDIA PVT LTD                143.104197\n",
       "HONDA CARS INDIA LTD                   139.618099\n",
       "KAJARIA CERAMICS LTD                   137.668792\n",
       "HERO CYCLES LTD                        137.027581\n",
       "PIDILITE INDUSTRIES                    131.690217\n",
       "LLOYD ELECTRIC & ENGG LTD              130.804796\n",
       "NIVEA INDIA PVT LTD                    123.879259\n",
       "FUTURE CORPORATE RESOURCES LTD         114.405000\n",
       "200 NOT OUT CINEMAS PRIVATE LIMITED    103.791714\n",
       "FUTURE CONSUMER ENTERPRISE LTD          94.133333\n",
       "Name: Impressions, dtype: float64"
      ]
     },
     "execution_count": 401,
     "metadata": {},
     "output_type": "execute_result"
    }
   ],
   "source": [
    "advertiserwise_data=ipl_data.groupby('Advertiser').Impressions.mean()\n",
    "print(advertiserwise_data.sort_values(ascending=False).head(10))\n",
    "advertiserwise_data.sort_values(ascending=False).tail(10)"
   ]
  },
  {
   "cell_type": "code",
   "execution_count": 402,
   "metadata": {
    "collapsed": false
   },
   "outputs": [
    {
     "name": "stdout",
     "output_type": "stream",
     "text": [
      "Advertiser\n",
      "WALT DISNEY STUDIOS MOTION PICTURES    16037.155000\n",
      "KERALA TOURISM DEVP CORP               13260.870000\n",
      "PEPSI CO                                9292.339310\n",
      "BERGER PAINTS                           9167.781788\n",
      "KANSAI NEROLAC PAINTS LTD               8514.219194\n",
      "DOLLAR INDUSTRIES LTD                   8326.251258\n",
      "GILLETTE INDIA LTD                      7782.741419\n",
      "VEEKESY RUBBER INDUSTRIES               7519.209965\n",
      "J G HOSIERY (P) LTD                     7447.945455\n",
      "HITACHI HOME & LIFE SOLUTIONS           6860.618755\n",
      "Name: Impressions, dtype: float64\n"
     ]
    },
    {
     "data": {
      "text/plain": [
       "Advertiser\n",
       "PANASONIC INDIA PVT LTD                143.104197\n",
       "HONDA CARS INDIA LTD                   139.618099\n",
       "KAJARIA CERAMICS LTD                   137.668792\n",
       "HERO CYCLES LTD                        137.027581\n",
       "PIDILITE INDUSTRIES                    131.690217\n",
       "LLOYD ELECTRIC & ENGG LTD              130.804796\n",
       "NIVEA INDIA PVT LTD                    123.879259\n",
       "FUTURE CORPORATE RESOURCES LTD         114.405000\n",
       "200 NOT OUT CINEMAS PRIVATE LIMITED    103.791714\n",
       "FUTURE CONSUMER ENTERPRISE LTD          94.133333\n",
       "Name: Impressions, dtype: float64"
      ]
     },
     "execution_count": 402,
     "metadata": {},
     "output_type": "execute_result"
    }
   ],
   "source": [
    "advertiserwise_data=ipl_data.groupby('Advertiser').Impressions.mean()\n",
    "print(advertiserwise_data.sort_values(ascending=False).head(10))\n",
    "#plt.title(\"Advertiser Vs Impressions\")\n",
    "advertiserwise_data=ipl_data.groupby('Advertiser').Impressions.mean()\n",
    "advertiserwise_data.sort_values(ascending=False).tail(10)"
   ]
  },
  {
   "cell_type": "code",
   "execution_count": 82,
   "metadata": {
    "collapsed": false
   },
   "outputs": [
    {
     "name": "stdout",
     "output_type": "stream",
     "text": [
      "Start Time {Av(Tm)}\n",
      "2017-08-17 23:20:56    24483.90\n",
      "2017-08-17 23:20:06    23831.78\n",
      "2017-08-17 23:20:46    23831.78\n",
      "2017-08-17 23:20:21    23831.78\n",
      "2017-08-17 21:34:09    23305.14\n",
      "2017-08-17 21:25:36    22592.88\n",
      "2017-08-17 21:43:25    22379.55\n",
      "2017-08-17 20:40:25    22303.00\n",
      "2017-08-17 20:40:05    22303.00\n",
      "2017-08-17 21:43:45    22103.94\n",
      "Name: Impressions, dtype: float64\n"
     ]
    },
    {
     "data": {
      "text/plain": [
       "Start Time {Av(Tm)}\n",
       "2017-08-17 23:43:58    0.0\n",
       "2017-08-17 12:10:39    0.0\n",
       "2017-08-17 00:23:20    0.0\n",
       "2017-08-17 17:59:21    0.0\n",
       "2017-08-17 20:06:10    0.0\n",
       "2017-08-17 17:59:23    0.0\n",
       "2017-08-17 12:10:59    0.0\n",
       "2017-08-17 12:11:00    0.0\n",
       "2017-08-17 12:11:19    0.0\n",
       "2017-08-17 02:13:43    0.0\n",
       "Name: Impressions, dtype: float64"
      ]
     },
     "execution_count": 82,
     "metadata": {},
     "output_type": "execute_result"
    }
   ],
   "source": [
    "start_time_data=ipl_data.groupby('Start Time {Av(Tm)}').Impressions.mean()\n",
    "print(start_time_data.sort_values(ascending=False).head(10))\n",
    "start_time_data.sort_values(ascending=False).tail(10)\n"
   ]
  },
  {
   "cell_type": "code",
   "execution_count": 83,
   "metadata": {
    "collapsed": false
   },
   "outputs": [
    {
     "data": {
      "text/plain": [
       "pandas.tseries.common.DatetimeProperties"
      ]
     },
     "execution_count": 83,
     "metadata": {},
     "output_type": "execute_result"
    }
   ],
   "source": [
    "ipl_data['Start Time {Av(Tm)}']=pd.to_datetime(ipl_data['Start Time {Av(Tm)}'])\n",
    "type(ipl_data['Start Time {Av(Tm)}'].dt)"
   ]
  },
  {
   "cell_type": "code",
   "execution_count": 84,
   "metadata": {
    "collapsed": false
   },
   "outputs": [],
   "source": [
    "ipl_data['hour']=ipl_data['Start Time {Av(Tm)}'].dt.hour"
   ]
  },
  {
   "cell_type": "code",
   "execution_count": 85,
   "metadata": {
    "collapsed": false
   },
   "outputs": [
    {
     "data": {
      "text/plain": [
       "Date\n",
       "2017-05-04    18\n",
       "2017-05-04    18\n",
       "2017-05-04    18\n",
       "2017-05-04    18\n",
       "2017-05-04    18\n",
       "Name: hour, dtype: int64"
      ]
     },
     "execution_count": 85,
     "metadata": {},
     "output_type": "execute_result"
    }
   ],
   "source": [
    "ipl_data['hour'].head(5)"
   ]
  },
  {
   "cell_type": "code",
   "execution_count": 72,
   "metadata": {
    "collapsed": false
   },
   "outputs": [
    {
     "data": {
      "text/plain": [
       "hour\n",
       "14    314.832859\n",
       "11    277.530779\n",
       "12    243.095000\n",
       "13    231.620837\n",
       "1     202.945545\n",
       "10    193.072524\n",
       "2     108.744565\n",
       "5     100.331071\n",
       "3      78.404287\n",
       "4      37.841328\n",
       "Name: Impressions, dtype: float64"
      ]
     },
     "execution_count": 72,
     "metadata": {},
     "output_type": "execute_result"
    }
   ],
   "source": [
    "hourwise_data=ipl_data.groupby('hour').Impressions.mean()\n",
    "hourwise_data.sort_values(ascending=False).tail(10)"
   ]
  },
  {
   "cell_type": "code",
   "execution_count": 86,
   "metadata": {
    "collapsed": false
   },
   "outputs": [
    {
     "data": {
      "image/png": "[encoded data removed]",
      "text/plain": [
       "<matplotlib.figure.Figure at 0x21f09566b38>"
      ]
     },
     "metadata": {},
     "output_type": "display_data"
    }
   ],
   "source": [
    "plt.plot(hourwise_data)\n",
    "plt.ylabel(' Average Impressions')\n",
    "plt.xlabel('Hour of the Day in 24 Hr Format')\n",
    "plt.show()"
   ]
  },
  {
   "cell_type": "code",
   "execution_count": null,
   "metadata": {
    "collapsed": true
   },
   "outputs": [],
   "source": []
  }
 ],
 "metadata": {
  "anaconda-cloud": {},
  "kernelspec": {
   "display_name": "Python [default]",
   "language": "python",
   "name": "python3"
  },
  "language_info": {
   "codemirror_mode": {
    "name": "ipython",
    "version": 3
   },
   "file_extension": ".py",
   "mimetype": "text/x-python",
   "name": "python",
   "nbconvert_exporter": "python",
   "pygments_lexer": "ipython3",
   "version": "3.5.2"
  }
 },
 "nbformat": 4,
 "nbformat_minor": 1
}
