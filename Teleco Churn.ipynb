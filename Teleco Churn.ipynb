{
 "cells": [
  {
   "cell_type": "markdown",
   "metadata": {},
   "source": [
    "Importing the libraries"
   ]
  },
  {
   "cell_type": "code",
   "execution_count": 1,
   "metadata": {
    "collapsed": true
   },
   "outputs": [],
   "source": [
    "import pandas as pd\n",
    "import numpy as np\n",
    "import matplotlib.pyplot as plt\n",
    "import seaborn as sns\n",
    "from sklearn.metrics import confusion_matrix"
   ]
  },
  {
   "cell_type": "code",
   "execution_count": 2,
   "metadata": {
    "collapsed": true
   },
   "outputs": [],
   "source": [
    "column_header=[\"State\",\"Account Length\",\"Area Code\",\"Phone\",\"International Plan\",\"VMail Plan\",\"VMail Message\",\"Day Mins\",\"Day Calls\",\"Day Charge\",\"Eve Mins\",\"Eve Calls\",\"Eve Charge\",\"Night Mins\",\"Night Calls\",\"Night Charge\",\"International Mins\",\"International calls\",\"International Charge\",\"CustServ Calls\",\"Churn\"]"
   ]
  },
  {
   "cell_type": "markdown",
   "metadata": {},
   "source": [
    "Reading and storing the data"
   ]
  },
  {
   "cell_type": "code",
   "execution_count": 3,
   "metadata": {
    "collapsed": true
   },
   "outputs": [],
   "source": [
    "data=pd.read_csv(\"telecom_churn_data.txt\", delimiter=\",\",header=None,names=column_header,index_col=False)"
   ]
  },
  {
   "cell_type": "code",
   "execution_count": 4,
   "metadata": {},
   "outputs": [
    {
     "data": {
      "text/html": [
       "<div>\n",
       "<style>\n",
       "    .dataframe thead tr:only-child th {\n",
       "        text-align: right;\n",
       "    }\n",
       "\n",
       "    .dataframe thead th {\n",
       "        text-align: left;\n",
       "    }\n",
       "\n",
       "    .dataframe tbody tr th {\n",
       "        vertical-align: top;\n",
       "    }\n",
       "</style>\n",
       "<table border=\"1\" class=\"dataframe\">\n",
       "  <thead>\n",
       "    <tr style=\"text-align: right;\">\n",
       "      <th></th>\n",
       "      <th>State</th>\n",
       "      <th>Account Length</th>\n",
       "      <th>Area Code</th>\n",
       "      <th>Phone</th>\n",
       "      <th>International Plan</th>\n",
       "      <th>VMail Plan</th>\n",
       "      <th>VMail Message</th>\n",
       "      <th>Day Mins</th>\n",
       "      <th>Day Calls</th>\n",
       "      <th>Day Charge</th>\n",
       "      <th>...</th>\n",
       "      <th>Eve Calls</th>\n",
       "      <th>Eve Charge</th>\n",
       "      <th>Night Mins</th>\n",
       "      <th>Night Calls</th>\n",
       "      <th>Night Charge</th>\n",
       "      <th>International Mins</th>\n",
       "      <th>International calls</th>\n",
       "      <th>International Charge</th>\n",
       "      <th>CustServ Calls</th>\n",
       "      <th>Churn</th>\n",
       "    </tr>\n",
       "  </thead>\n",
       "  <tbody>\n",
       "    <tr>\n",
       "      <th>0</th>\n",
       "      <td>KS</td>\n",
       "      <td>128</td>\n",
       "      <td>415</td>\n",
       "      <td>382-4657</td>\n",
       "      <td>no</td>\n",
       "      <td>yes</td>\n",
       "      <td>25</td>\n",
       "      <td>265.1</td>\n",
       "      <td>110</td>\n",
       "      <td>45.07</td>\n",
       "      <td>...</td>\n",
       "      <td>99</td>\n",
       "      <td>16.78</td>\n",
       "      <td>244.7</td>\n",
       "      <td>91</td>\n",
       "      <td>11.01</td>\n",
       "      <td>10.0</td>\n",
       "      <td>3</td>\n",
       "      <td>2.70</td>\n",
       "      <td>1</td>\n",
       "      <td>False.</td>\n",
       "    </tr>\n",
       "    <tr>\n",
       "      <th>1</th>\n",
       "      <td>OH</td>\n",
       "      <td>107</td>\n",
       "      <td>415</td>\n",
       "      <td>371-7191</td>\n",
       "      <td>no</td>\n",
       "      <td>yes</td>\n",
       "      <td>26</td>\n",
       "      <td>161.6</td>\n",
       "      <td>123</td>\n",
       "      <td>27.47</td>\n",
       "      <td>...</td>\n",
       "      <td>103</td>\n",
       "      <td>16.62</td>\n",
       "      <td>254.4</td>\n",
       "      <td>103</td>\n",
       "      <td>11.45</td>\n",
       "      <td>13.7</td>\n",
       "      <td>3</td>\n",
       "      <td>3.70</td>\n",
       "      <td>1</td>\n",
       "      <td>False.</td>\n",
       "    </tr>\n",
       "    <tr>\n",
       "      <th>2</th>\n",
       "      <td>NJ</td>\n",
       "      <td>137</td>\n",
       "      <td>415</td>\n",
       "      <td>358-1921</td>\n",
       "      <td>no</td>\n",
       "      <td>no</td>\n",
       "      <td>0</td>\n",
       "      <td>243.4</td>\n",
       "      <td>114</td>\n",
       "      <td>41.38</td>\n",
       "      <td>...</td>\n",
       "      <td>110</td>\n",
       "      <td>10.30</td>\n",
       "      <td>162.6</td>\n",
       "      <td>104</td>\n",
       "      <td>7.32</td>\n",
       "      <td>12.2</td>\n",
       "      <td>5</td>\n",
       "      <td>3.29</td>\n",
       "      <td>0</td>\n",
       "      <td>False.</td>\n",
       "    </tr>\n",
       "    <tr>\n",
       "      <th>3</th>\n",
       "      <td>OH</td>\n",
       "      <td>84</td>\n",
       "      <td>408</td>\n",
       "      <td>375-9999</td>\n",
       "      <td>yes</td>\n",
       "      <td>no</td>\n",
       "      <td>0</td>\n",
       "      <td>299.4</td>\n",
       "      <td>71</td>\n",
       "      <td>50.90</td>\n",
       "      <td>...</td>\n",
       "      <td>88</td>\n",
       "      <td>5.26</td>\n",
       "      <td>196.9</td>\n",
       "      <td>89</td>\n",
       "      <td>8.86</td>\n",
       "      <td>6.6</td>\n",
       "      <td>7</td>\n",
       "      <td>1.78</td>\n",
       "      <td>2</td>\n",
       "      <td>False.</td>\n",
       "    </tr>\n",
       "    <tr>\n",
       "      <th>4</th>\n",
       "      <td>OK</td>\n",
       "      <td>75</td>\n",
       "      <td>415</td>\n",
       "      <td>330-6626</td>\n",
       "      <td>yes</td>\n",
       "      <td>no</td>\n",
       "      <td>0</td>\n",
       "      <td>166.7</td>\n",
       "      <td>113</td>\n",
       "      <td>28.34</td>\n",
       "      <td>...</td>\n",
       "      <td>122</td>\n",
       "      <td>12.61</td>\n",
       "      <td>186.9</td>\n",
       "      <td>121</td>\n",
       "      <td>8.41</td>\n",
       "      <td>10.1</td>\n",
       "      <td>3</td>\n",
       "      <td>2.73</td>\n",
       "      <td>3</td>\n",
       "      <td>False.</td>\n",
       "    </tr>\n",
       "  </tbody>\n",
       "</table>\n",
       "<p>5 rows × 21 columns</p>\n",
       "</div>"
      ],
      "text/plain": [
       "  State  Account Length  Area Code      Phone International Plan VMail Plan  \\\n",
       "0    KS             128        415   382-4657                 no        yes   \n",
       "1    OH             107        415   371-7191                 no        yes   \n",
       "2    NJ             137        415   358-1921                 no         no   \n",
       "3    OH              84        408   375-9999                yes         no   \n",
       "4    OK              75        415   330-6626                yes         no   \n",
       "\n",
       "   VMail Message  Day Mins  Day Calls  Day Charge   ...     Eve Calls  \\\n",
       "0             25     265.1        110       45.07   ...            99   \n",
       "1             26     161.6        123       27.47   ...           103   \n",
       "2              0     243.4        114       41.38   ...           110   \n",
       "3              0     299.4         71       50.90   ...            88   \n",
       "4              0     166.7        113       28.34   ...           122   \n",
       "\n",
       "   Eve Charge  Night Mins  Night Calls  Night Charge  International Mins  \\\n",
       "0       16.78       244.7           91         11.01                10.0   \n",
       "1       16.62       254.4          103         11.45                13.7   \n",
       "2       10.30       162.6          104          7.32                12.2   \n",
       "3        5.26       196.9           89          8.86                 6.6   \n",
       "4       12.61       186.9          121          8.41                10.1   \n",
       "\n",
       "   International calls  International Charge  CustServ Calls    Churn  \n",
       "0                    3                  2.70               1   False.  \n",
       "1                    3                  3.70               1   False.  \n",
       "2                    5                  3.29               0   False.  \n",
       "3                    7                  1.78               2   False.  \n",
       "4                    3                  2.73               3   False.  \n",
       "\n",
       "[5 rows x 21 columns]"
      ]
     },
     "execution_count": 4,
     "metadata": {},
     "output_type": "execute_result"
    }
   ],
   "source": [
    "data.head()"
   ]
  },
  {
   "cell_type": "markdown",
   "metadata": {},
   "source": [
    "# EDA"
   ]
  },
  {
   "cell_type": "code",
   "execution_count": 5,
   "metadata": {},
   "outputs": [
    {
     "name": "stdout",
     "output_type": "stream",
     "text": [
      "<class 'pandas.core.frame.DataFrame'>\n",
      "RangeIndex: 4617 entries, 0 to 4616\n",
      "Data columns (total 21 columns):\n",
      "State                   4617 non-null object\n",
      "Account Length          4617 non-null int64\n",
      "Area Code               4617 non-null int64\n",
      "Phone                   4617 non-null object\n",
      "International Plan      4617 non-null object\n",
      "VMail Plan              4617 non-null object\n",
      "VMail Message           4617 non-null int64\n",
      "Day Mins                4617 non-null float64\n",
      "Day Calls               4617 non-null int64\n",
      "Day Charge              4617 non-null float64\n",
      "Eve Mins                4617 non-null float64\n",
      "Eve Calls               4617 non-null int64\n",
      "Eve Charge              4617 non-null float64\n",
      "Night Mins              4617 non-null float64\n",
      "Night Calls             4617 non-null int64\n",
      "Night Charge            4617 non-null float64\n",
      "International Mins      4617 non-null float64\n",
      "International calls     4617 non-null int64\n",
      "International Charge    4617 non-null float64\n",
      "CustServ Calls          4617 non-null int64\n",
      "Churn                   4617 non-null object\n",
      "dtypes: float64(8), int64(8), object(5)\n",
      "memory usage: 757.6+ KB\n"
     ]
    }
   ],
   "source": [
    "data.info()"
   ]
  },
  {
   "cell_type": "code",
   "execution_count": 6,
   "metadata": {},
   "outputs": [
    {
     "data": {
      "text/html": [
       "<div>\n",
       "<style>\n",
       "    .dataframe thead tr:only-child th {\n",
       "        text-align: right;\n",
       "    }\n",
       "\n",
       "    .dataframe thead th {\n",
       "        text-align: left;\n",
       "    }\n",
       "\n",
       "    .dataframe tbody tr th {\n",
       "        vertical-align: top;\n",
       "    }\n",
       "</style>\n",
       "<table border=\"1\" class=\"dataframe\">\n",
       "  <thead>\n",
       "    <tr style=\"text-align: right;\">\n",
       "      <th></th>\n",
       "      <th>Account Length</th>\n",
       "      <th>Area Code</th>\n",
       "      <th>VMail Message</th>\n",
       "      <th>Day Mins</th>\n",
       "      <th>Day Calls</th>\n",
       "      <th>Day Charge</th>\n",
       "      <th>Eve Mins</th>\n",
       "      <th>Eve Calls</th>\n",
       "      <th>Eve Charge</th>\n",
       "      <th>Night Mins</th>\n",
       "      <th>Night Calls</th>\n",
       "      <th>Night Charge</th>\n",
       "      <th>International Mins</th>\n",
       "      <th>International calls</th>\n",
       "      <th>International Charge</th>\n",
       "      <th>CustServ Calls</th>\n",
       "    </tr>\n",
       "  </thead>\n",
       "  <tbody>\n",
       "    <tr>\n",
       "      <th>count</th>\n",
       "      <td>4617.000000</td>\n",
       "      <td>4617.000000</td>\n",
       "      <td>4617.000000</td>\n",
       "      <td>4617.000000</td>\n",
       "      <td>4617.000000</td>\n",
       "      <td>4617.000000</td>\n",
       "      <td>4617.000000</td>\n",
       "      <td>4617.000000</td>\n",
       "      <td>4617.000000</td>\n",
       "      <td>4617.000000</td>\n",
       "      <td>4617.000000</td>\n",
       "      <td>4617.000000</td>\n",
       "      <td>4617.000000</td>\n",
       "      <td>4617.000000</td>\n",
       "      <td>4617.000000</td>\n",
       "      <td>4617.000000</td>\n",
       "    </tr>\n",
       "    <tr>\n",
       "      <th>mean</th>\n",
       "      <td>100.645224</td>\n",
       "      <td>437.046350</td>\n",
       "      <td>7.849903</td>\n",
       "      <td>180.447152</td>\n",
       "      <td>100.054364</td>\n",
       "      <td>30.676576</td>\n",
       "      <td>200.429088</td>\n",
       "      <td>100.179770</td>\n",
       "      <td>17.036703</td>\n",
       "      <td>200.623933</td>\n",
       "      <td>99.944120</td>\n",
       "      <td>9.028185</td>\n",
       "      <td>10.279294</td>\n",
       "      <td>4.433831</td>\n",
       "      <td>2.775926</td>\n",
       "      <td>1.567035</td>\n",
       "    </tr>\n",
       "    <tr>\n",
       "      <th>std</th>\n",
       "      <td>39.597194</td>\n",
       "      <td>42.288212</td>\n",
       "      <td>13.592333</td>\n",
       "      <td>53.983540</td>\n",
       "      <td>19.883027</td>\n",
       "      <td>9.177145</td>\n",
       "      <td>50.557001</td>\n",
       "      <td>19.821314</td>\n",
       "      <td>4.297332</td>\n",
       "      <td>50.543616</td>\n",
       "      <td>19.935053</td>\n",
       "      <td>2.274488</td>\n",
       "      <td>2.757361</td>\n",
       "      <td>2.457615</td>\n",
       "      <td>0.744413</td>\n",
       "      <td>1.307019</td>\n",
       "    </tr>\n",
       "    <tr>\n",
       "      <th>min</th>\n",
       "      <td>1.000000</td>\n",
       "      <td>408.000000</td>\n",
       "      <td>0.000000</td>\n",
       "      <td>0.000000</td>\n",
       "      <td>0.000000</td>\n",
       "      <td>0.000000</td>\n",
       "      <td>0.000000</td>\n",
       "      <td>0.000000</td>\n",
       "      <td>0.000000</td>\n",
       "      <td>23.200000</td>\n",
       "      <td>12.000000</td>\n",
       "      <td>1.040000</td>\n",
       "      <td>0.000000</td>\n",
       "      <td>0.000000</td>\n",
       "      <td>0.000000</td>\n",
       "      <td>0.000000</td>\n",
       "    </tr>\n",
       "    <tr>\n",
       "      <th>25%</th>\n",
       "      <td>74.000000</td>\n",
       "      <td>408.000000</td>\n",
       "      <td>0.000000</td>\n",
       "      <td>143.700000</td>\n",
       "      <td>87.000000</td>\n",
       "      <td>24.430000</td>\n",
       "      <td>165.900000</td>\n",
       "      <td>87.000000</td>\n",
       "      <td>14.100000</td>\n",
       "      <td>167.100000</td>\n",
       "      <td>87.000000</td>\n",
       "      <td>7.520000</td>\n",
       "      <td>8.600000</td>\n",
       "      <td>3.000000</td>\n",
       "      <td>2.320000</td>\n",
       "      <td>1.000000</td>\n",
       "    </tr>\n",
       "    <tr>\n",
       "      <th>50%</th>\n",
       "      <td>100.000000</td>\n",
       "      <td>415.000000</td>\n",
       "      <td>0.000000</td>\n",
       "      <td>180.000000</td>\n",
       "      <td>100.000000</td>\n",
       "      <td>30.600000</td>\n",
       "      <td>200.800000</td>\n",
       "      <td>101.000000</td>\n",
       "      <td>17.070000</td>\n",
       "      <td>200.800000</td>\n",
       "      <td>100.000000</td>\n",
       "      <td>9.040000</td>\n",
       "      <td>10.300000</td>\n",
       "      <td>4.000000</td>\n",
       "      <td>2.780000</td>\n",
       "      <td>1.000000</td>\n",
       "    </tr>\n",
       "    <tr>\n",
       "      <th>75%</th>\n",
       "      <td>127.000000</td>\n",
       "      <td>510.000000</td>\n",
       "      <td>17.000000</td>\n",
       "      <td>216.800000</td>\n",
       "      <td>113.000000</td>\n",
       "      <td>36.860000</td>\n",
       "      <td>234.000000</td>\n",
       "      <td>114.000000</td>\n",
       "      <td>19.890000</td>\n",
       "      <td>234.900000</td>\n",
       "      <td>113.000000</td>\n",
       "      <td>10.570000</td>\n",
       "      <td>12.100000</td>\n",
       "      <td>6.000000</td>\n",
       "      <td>3.270000</td>\n",
       "      <td>2.000000</td>\n",
       "    </tr>\n",
       "    <tr>\n",
       "      <th>max</th>\n",
       "      <td>243.000000</td>\n",
       "      <td>510.000000</td>\n",
       "      <td>51.000000</td>\n",
       "      <td>351.500000</td>\n",
       "      <td>165.000000</td>\n",
       "      <td>59.760000</td>\n",
       "      <td>363.700000</td>\n",
       "      <td>170.000000</td>\n",
       "      <td>30.910000</td>\n",
       "      <td>395.000000</td>\n",
       "      <td>175.000000</td>\n",
       "      <td>17.770000</td>\n",
       "      <td>20.000000</td>\n",
       "      <td>20.000000</td>\n",
       "      <td>5.400000</td>\n",
       "      <td>9.000000</td>\n",
       "    </tr>\n",
       "  </tbody>\n",
       "</table>\n",
       "</div>"
      ],
      "text/plain": [
       "       Account Length    Area Code  VMail Message     Day Mins    Day Calls  \\\n",
       "count     4617.000000  4617.000000    4617.000000  4617.000000  4617.000000   \n",
       "mean       100.645224   437.046350       7.849903   180.447152   100.054364   \n",
       "std         39.597194    42.288212      13.592333    53.983540    19.883027   \n",
       "min          1.000000   408.000000       0.000000     0.000000     0.000000   \n",
       "25%         74.000000   408.000000       0.000000   143.700000    87.000000   \n",
       "50%        100.000000   415.000000       0.000000   180.000000   100.000000   \n",
       "75%        127.000000   510.000000      17.000000   216.800000   113.000000   \n",
       "max        243.000000   510.000000      51.000000   351.500000   165.000000   \n",
       "\n",
       "        Day Charge     Eve Mins    Eve Calls   Eve Charge   Night Mins  \\\n",
       "count  4617.000000  4617.000000  4617.000000  4617.000000  4617.000000   \n",
       "mean     30.676576   200.429088   100.179770    17.036703   200.623933   \n",
       "std       9.177145    50.557001    19.821314     4.297332    50.543616   \n",
       "min       0.000000     0.000000     0.000000     0.000000    23.200000   \n",
       "25%      24.430000   165.900000    87.000000    14.100000   167.100000   \n",
       "50%      30.600000   200.800000   101.000000    17.070000   200.800000   \n",
       "75%      36.860000   234.000000   114.000000    19.890000   234.900000   \n",
       "max      59.760000   363.700000   170.000000    30.910000   395.000000   \n",
       "\n",
       "       Night Calls  Night Charge  International Mins  International calls  \\\n",
       "count  4617.000000   4617.000000         4617.000000          4617.000000   \n",
       "mean     99.944120      9.028185           10.279294             4.433831   \n",
       "std      19.935053      2.274488            2.757361             2.457615   \n",
       "min      12.000000      1.040000            0.000000             0.000000   \n",
       "25%      87.000000      7.520000            8.600000             3.000000   \n",
       "50%     100.000000      9.040000           10.300000             4.000000   \n",
       "75%     113.000000     10.570000           12.100000             6.000000   \n",
       "max     175.000000     17.770000           20.000000            20.000000   \n",
       "\n",
       "       International Charge  CustServ Calls  \n",
       "count           4617.000000     4617.000000  \n",
       "mean               2.775926        1.567035  \n",
       "std                0.744413        1.307019  \n",
       "min                0.000000        0.000000  \n",
       "25%                2.320000        1.000000  \n",
       "50%                2.780000        1.000000  \n",
       "75%                3.270000        2.000000  \n",
       "max                5.400000        9.000000  "
      ]
     },
     "execution_count": 6,
     "metadata": {},
     "output_type": "execute_result"
    }
   ],
   "source": [
    "data.describe()"
   ]
  },
  {
   "cell_type": "code",
   "execution_count": 7,
   "metadata": {},
   "outputs": [
    {
     "data": {
      "text/plain": [
       "(4617, 21)"
      ]
     },
     "execution_count": 7,
     "metadata": {},
     "output_type": "execute_result"
    }
   ],
   "source": [
    "data.shape"
   ]
  },
  {
   "cell_type": "code",
   "execution_count": 8,
   "metadata": {
    "collapsed": true
   },
   "outputs": [],
   "source": [
    "%matplotlib inline"
   ]
  },
  {
   "cell_type": "code",
   "execution_count": 9,
   "metadata": {},
   "outputs": [
    {
     "data": {
      "text/plain": [
       "array([[<matplotlib.axes._subplots.AxesSubplot object at 0x00000164D5DD6438>,\n",
       "        <matplotlib.axes._subplots.AxesSubplot object at 0x00000164D5E8B518>,\n",
       "        <matplotlib.axes._subplots.AxesSubplot object at 0x00000164D5ED9940>,\n",
       "        <matplotlib.axes._subplots.AxesSubplot object at 0x00000164D5F557F0>],\n",
       "       [<matplotlib.axes._subplots.AxesSubplot object at 0x00000164D5FAEF98>,\n",
       "        <matplotlib.axes._subplots.AxesSubplot object at 0x00000164D5FAEFD0>,\n",
       "        <matplotlib.axes._subplots.AxesSubplot object at 0x00000164D60A1240>,\n",
       "        <matplotlib.axes._subplots.AxesSubplot object at 0x00000164D60D7B70>],\n",
       "       [<matplotlib.axes._subplots.AxesSubplot object at 0x00000164D61667F0>,\n",
       "        <matplotlib.axes._subplots.AxesSubplot object at 0x00000164D6178F98>,\n",
       "        <matplotlib.axes._subplots.AxesSubplot object at 0x00000164D62342B0>,\n",
       "        <matplotlib.axes._subplots.AxesSubplot object at 0x00000164D6281F98>],\n",
       "       [<matplotlib.axes._subplots.AxesSubplot object at 0x00000164D62FAD30>,\n",
       "        <matplotlib.axes._subplots.AxesSubplot object at 0x00000164D635C630>,\n",
       "        <matplotlib.axes._subplots.AxesSubplot object at 0x00000164D63D3908>,\n",
       "        <matplotlib.axes._subplots.AxesSubplot object at 0x00000164D64209B0>]], dtype=object)"
      ]
     },
     "execution_count": 9,
     "metadata": {},
     "output_type": "execute_result"
    },
    {
     "data": {
      "image/png": "[encoded data removed]",
      "text/plain": [
       "<matplotlib.figure.Figure at 0x164d5d9a710>"
      ]
     },
     "metadata": {},
     "output_type": "display_data"
    }
   ],
   "source": [
    "data.hist(bins=50, figsize=(20,15))"
   ]
  },
  {
   "cell_type": "code",
   "execution_count": 10,
   "metadata": {},
   "outputs": [
    {
     "data": {
      "text/plain": [
       "Index(['State', 'Account Length', 'Area Code', 'Phone', 'International Plan',\n",
       "       'VMail Plan', 'VMail Message', 'Day Mins', 'Day Calls', 'Day Charge',\n",
       "       'Eve Mins', 'Eve Calls', 'Eve Charge', 'Night Mins', 'Night Calls',\n",
       "       'Night Charge', 'International Mins', 'International calls',\n",
       "       'International Charge', 'CustServ Calls', 'Churn'],\n",
       "      dtype='object')"
      ]
     },
     "execution_count": 10,
     "metadata": {},
     "output_type": "execute_result"
    }
   ],
   "source": [
    "data.columns"
   ]
  },
  {
   "cell_type": "markdown",
   "metadata": {},
   "source": [
    "Plotting graphs to find the relationships between the features and the customer churn(target variable)."
   ]
  },
  {
   "cell_type": "code",
   "execution_count": 11,
   "metadata": {},
   "outputs": [
    {
     "data": {
      "image/png": "[encoded data removed]",
      "text/plain": [
       "<matplotlib.figure.Figure at 0x164d6632048>"
      ]
     },
     "metadata": {},
     "output_type": "display_data"
    }
   ],
   "source": [
    "plt.figure(figsize = (15,20))\n",
    "plt.subplot(5,3,1)\n",
    "sns.barplot(data['Churn'], data['CustServ Calls'])\n",
    "plt.subplot(5,3,2)\n",
    "sns.barplot(data['Churn'], data['International Charge'])\n",
    "plt.subplot(5,3,3)\n",
    "sns.barplot(data['Churn'], data['International calls'])\n",
    "plt.subplot(5,3,4)\n",
    "sns.barplot(data['Churn'], data['International Mins'])\n",
    "plt.subplot(5,3,5)\n",
    "sns.barplot(data['Churn'], data['Night Charge'])\n",
    "plt.subplot(5,3,6)\n",
    "sns.barplot(data['Churn'], data['Night Calls'])\n",
    "plt.subplot(5,3,7)\n",
    "sns.barplot(data['Churn'], data['Night Mins'])\n",
    "plt.subplot(5,3,8)\n",
    "sns.barplot(data['Churn'], data['Eve Charge'])\n",
    "plt.subplot(5,3,9)\n",
    "sns.barplot(data['Churn'], data['Eve Calls'])\n",
    "plt.subplot(5,3,10)\n",
    "sns.barplot(data['Churn'], data['Eve Mins'])\n",
    "plt.subplot(5,3,11)\n",
    "sns.barplot(data['Churn'], data['Day Charge'])\n",
    "plt.subplot(5,3,12)\n",
    "sns.barplot(data['Churn'], data['Day Calls'])\n",
    "plt.subplot(5,3,13)\n",
    "sns.barplot(data['Churn'], data['Day Mins'])\n",
    "plt.subplot(5,3,14)\n",
    "sns.barplot(data['Churn'], data['VMail Message'])\n",
    "plt.suptitle(\"Variables relation to dependent variable - churn\", fontsize = 20)\n",
    "plt.show()"
   ]
  },
  {
   "cell_type": "markdown",
   "metadata": {},
   "source": [
    "Except, CustServ Calls and VMail Message, there doesn't seem to be a link between most of the feature and the target class. This specifies the need for more features to analyze the correlation. Even w.r.t Custservice Call we need an extra feature that shows if the issue the customers issue for was resolved. This can give us a more clear understanding of the correlation between CustomerServ Calls and Churn."
   ]
  },
  {
   "cell_type": "markdown",
   "metadata": {},
   "source": [
    "Looking at the correlation between call rates and churn, there is a small link between Day Charge and Customer churn. The higher the call rates in the morning the higher the chances for the customer to churn but this cannot be used as a substantial evidence."
   ]
  },
  {
   "cell_type": "markdown",
   "metadata": {},
   "source": [
    "# Modelling"
   ]
  },
  {
   "cell_type": "code",
   "execution_count": 12,
   "metadata": {
    "collapsed": true
   },
   "outputs": [],
   "source": [
    "data_1=data.drop([\"State\",\"Area Code\",\"Phone\"],axis=1)"
   ]
  },
  {
   "cell_type": "code",
   "execution_count": 13,
   "metadata": {
    "collapsed": true
   },
   "outputs": [],
   "source": [
    "X = data_1.drop(['Churn'],axis=1).values\n",
    "y = data_1['Churn'].values"
   ]
  },
  {
   "cell_type": "markdown",
   "metadata": {},
   "source": [
    "Encoding the independent categorical variables-X"
   ]
  },
  {
   "cell_type": "code",
   "execution_count": 14,
   "metadata": {
    "collapsed": true
   },
   "outputs": [],
   "source": [
    "from sklearn.preprocessing import LabelEncoder\n",
    "labelencoder_X = LabelEncoder()\n",
    "X[:, 1] = labelencoder_X.fit_transform(X[:, 1])\n",
    "X[:, 2] = labelencoder_X.fit_transform(X[:, 2])"
   ]
  },
  {
   "cell_type": "markdown",
   "metadata": {},
   "source": [
    "Encoding the independent categorical variables-y"
   ]
  },
  {
   "cell_type": "code",
   "execution_count": 15,
   "metadata": {
    "collapsed": true
   },
   "outputs": [],
   "source": [
    "labelencoder_y = LabelEncoder()\n",
    "y=labelencoder_y.fit_transform(y)"
   ]
  },
  {
   "cell_type": "markdown",
   "metadata": {},
   "source": [
    "Splitting the dataset"
   ]
  },
  {
   "cell_type": "code",
   "execution_count": 16,
   "metadata": {},
   "outputs": [
    {
     "name": "stderr",
     "output_type": "stream",
     "text": [
      "C:\\Users\\prathik\\Anaconda3.6\\lib\\site-packages\\sklearn\\cross_validation.py:41: DeprecationWarning: This module was deprecated in version 0.18 in favor of the model_selection module into which all the refactored classes and functions are moved. Also note that the interface of the new CV iterators are different from that of this module. This module will be removed in 0.20.\n",
      "  \"This module will be removed in 0.20.\", DeprecationWarning)\n"
     ]
    }
   ],
   "source": [
    "from sklearn.cross_validation import train_test_split\n",
    "X_train, X_test, y_train, y_test = train_test_split(X, y, test_size = 0.25, random_state = 0)"
   ]
  },
  {
   "cell_type": "markdown",
   "metadata": {},
   "source": [
    "Feature Scaling"
   ]
  },
  {
   "cell_type": "code",
   "execution_count": 17,
   "metadata": {},
   "outputs": [
    {
     "name": "stderr",
     "output_type": "stream",
     "text": [
      "C:\\Users\\prathik\\Anaconda3.6\\lib\\site-packages\\sklearn\\utils\\validation.py:444: DataConversionWarning: Data with input dtype object was converted to float64 by StandardScaler.\n",
      "  warnings.warn(msg, DataConversionWarning)\n"
     ]
    }
   ],
   "source": [
    "from sklearn.preprocessing import StandardScaler\n",
    "sc = StandardScaler()\n",
    "X_train = sc.fit_transform(X_train)\n",
    "X_test = sc.transform(X_test)"
   ]
  },
  {
   "cell_type": "markdown",
   "metadata": {},
   "source": [
    "Accuracy and precision function-"
   ]
  },
  {
   "cell_type": "code",
   "execution_count": 18,
   "metadata": {
    "collapsed": true
   },
   "outputs": [],
   "source": [
    "def accuracy_precision(cm):\n",
    "    tp, fn, fp, tn = cm.ravel()\n",
    "    accuracy=(tp+tn)/cm.sum()\n",
    "    precision=tp/(tp+fp)\n",
    "    recall=tp/(tp+fn)\n",
    "    print(\"The accuracy of the model is %s:\" %accuracy)\n",
    "    print(\"The precision of the model is %s:\" %precision)\n",
    "    print(\"The recall of the model is %s:\" %recall)"
   ]
  },
  {
   "cell_type": "markdown",
   "metadata": {},
   "source": [
    "# Logistic Regression Model"
   ]
  },
  {
   "cell_type": "code",
   "execution_count": 19,
   "metadata": {},
   "outputs": [
    {
     "data": {
      "text/plain": [
       "LogisticRegression(C=1.0, class_weight=None, dual=False, fit_intercept=True,\n",
       "          intercept_scaling=1, max_iter=100, multi_class='ovr', n_jobs=1,\n",
       "          penalty='l2', random_state=42, solver='liblinear', tol=0.0001,\n",
       "          verbose=0, warm_start=False)"
      ]
     },
     "execution_count": 19,
     "metadata": {},
     "output_type": "execute_result"
    }
   ],
   "source": [
    "from sklearn.linear_model import LogisticRegression\n",
    "classifier=LogisticRegression(random_state=42)\n",
    "classifier.fit(X_train,y_train)"
   ]
  },
  {
   "cell_type": "markdown",
   "metadata": {},
   "source": [
    "Calculating the accuracy of the training set"
   ]
  },
  {
   "cell_type": "code",
   "execution_count": 20,
   "metadata": {},
   "outputs": [
    {
     "name": "stdout",
     "output_type": "stream",
     "text": [
      "The accuracy of the model is 0.861929520508:\n",
      "The precision of the model is 0.878547451938:\n",
      "The recall of the model is 0.972963839135:\n"
     ]
    }
   ],
   "source": [
    "y_train_predict=classifier.predict(X_train)\n",
    "cm_train=confusion_matrix(y_train,y_train_predict)\n",
    "accuracy_precision(cm_train)"
   ]
  },
  {
   "cell_type": "markdown",
   "metadata": {},
   "source": [
    "Calculating the accuracy of the test set"
   ]
  },
  {
   "cell_type": "code",
   "execution_count": 21,
   "metadata": {},
   "outputs": [
    {
     "name": "stdout",
     "output_type": "stream",
     "text": [
      "The accuracy of the model is 0.869264069264:\n",
      "The precision of the model is 0.888584474886:\n",
      "The recall of the model is 0.971057884232:\n"
     ]
    }
   ],
   "source": [
    "y_test_predict=classifier.predict(X_test)\n",
    "cm_test=confusion_matrix(y_test,y_test_predict)\n",
    "accuracy_precision(cm_test)"
   ]
  },
  {
   "cell_type": "markdown",
   "metadata": {},
   "source": [
    "# SVC"
   ]
  },
  {
   "cell_type": "markdown",
   "metadata": {},
   "source": [
    "Using SVC without using dimensionality reduction first takes a lot of computation time, therefore using PCA for feature extraction. "
   ]
  },
  {
   "cell_type": "markdown",
   "metadata": {},
   "source": [
    "PCA"
   ]
  },
  {
   "cell_type": "code",
   "execution_count": 22,
   "metadata": {
    "collapsed": true
   },
   "outputs": [],
   "source": [
    "from sklearn.decomposition import PCA\n",
    "pca=PCA(n_components=None)\n",
    "X_train_pca=pca.fit_transform(X_train)\n",
    "X_test_pca=pca.transform(X_test)"
   ]
  },
  {
   "cell_type": "code",
   "execution_count": 23,
   "metadata": {},
   "outputs": [
    {
     "data": {
      "text/plain": [
       "SVC(C=100, cache_size=200, class_weight=None, coef0=0.0,\n",
       "  decision_function_shape='ovr', degree=3, gamma='auto', kernel='rbf',\n",
       "  max_iter=-1, probability=False, random_state=42, shrinking=True,\n",
       "  tol=0.001, verbose=False)"
      ]
     },
     "execution_count": 23,
     "metadata": {},
     "output_type": "execute_result"
    }
   ],
   "source": [
    "from sklearn.svm import SVC\n",
    "classifier=SVC(kernel='rbf',C=100,random_state=42)\n",
    "#parameters=[{'C':[1,10,100,1000],'kernel':['linear','rbf']}]\n",
    "#grid_search=GridSearchCV(estimator=classifier, param_grid=parameters,scoring='roc_auc',cv=10, n_jobs=-1)\n",
    "classifier.fit(X_train_pca,y_train)"
   ]
  },
  {
   "cell_type": "markdown",
   "metadata": {},
   "source": [
    "Using GridSearchCV for SVC is computationally intensive , therefore only results obtained using the best parameters(based on multiple trials) are displayed below."
   ]
  },
  {
   "cell_type": "code",
   "execution_count": 24,
   "metadata": {},
   "outputs": [
    {
     "name": "stdout",
     "output_type": "stream",
     "text": [
      "The accuracy of the model is 0.996244945118:\n",
      "The precision of the model is 0.99595959596:\n",
      "The recall of the model is 0.999662047989:\n"
     ]
    }
   ],
   "source": [
    "y_train_predict=classifier.predict(X_train_pca)\n",
    "cm_train=confusion_matrix(y_train,y_train_predict)\n",
    "accuracy_precision(cm_train)"
   ]
  },
  {
   "cell_type": "code",
   "execution_count": 25,
   "metadata": {},
   "outputs": [
    {
     "name": "stdout",
     "output_type": "stream",
     "text": [
      "The accuracy of the model is 0.909090909091:\n",
      "The precision of the model is 0.953488372093:\n",
      "The recall of the model is 0.941117764471:\n"
     ]
    }
   ],
   "source": [
    "y_test_predict=classifier.predict(X_test_pca)\n",
    "cm_test=confusion_matrix(y_test,y_test_predict)\n",
    "accuracy_precision(cm_test)"
   ]
  },
  {
   "cell_type": "markdown",
   "metadata": {},
   "source": [
    "# Decision Tree with GridSearchCV"
   ]
  },
  {
   "cell_type": "code",
   "execution_count": 26,
   "metadata": {},
   "outputs": [],
   "source": [
    "from sklearn.tree import DecisionTreeClassifier\n",
    "from sklearn.model_selection import GridSearchCV\n",
    "classifier=DecisionTreeClassifier(random_state=42,splitter='best')\n",
    "parameters=[{'min_samples_split':[2,3,4,5],'criterion':['gini']},{'min_samples_split':[2,3,4,5],'criterion':['entropy']}]\n",
    "grid_search_dt=GridSearchCV(estimator=classifier, param_grid=parameters, scoring='roc_auc',cv=10, n_jobs=-1)\n",
    "grid_search_dt=grid_search_dt.fit(X_train,y_train)\n",
    "best_score=grid_search_dt.best_score_\n",
    "best_parameters=grid_search_dt.best_params_"
   ]
  },
  {
   "cell_type": "code",
   "execution_count": 27,
   "metadata": {},
   "outputs": [
    {
     "data": {
      "text/plain": [
       "0.85092384972115354"
      ]
     },
     "execution_count": 27,
     "metadata": {},
     "output_type": "execute_result"
    }
   ],
   "source": [
    "best_score"
   ]
  },
  {
   "cell_type": "code",
   "execution_count": 28,
   "metadata": {},
   "outputs": [
    {
     "data": {
      "text/plain": [
       "{'criterion': 'gini', 'min_samples_split': 5}"
      ]
     },
     "execution_count": 28,
     "metadata": {},
     "output_type": "execute_result"
    }
   ],
   "source": [
    "best_parameters"
   ]
  },
  {
   "cell_type": "markdown",
   "metadata": {},
   "source": [
    "Training Set accuracy"
   ]
  },
  {
   "cell_type": "code",
   "execution_count": 29,
   "metadata": {},
   "outputs": [
    {
     "name": "stdout",
     "output_type": "stream",
     "text": [
      "The accuracy of the model is 0.989890236857:\n",
      "The precision of the model is 0.991593813046:\n",
      "The recall of the model is 0.996620479892:\n"
     ]
    }
   ],
   "source": [
    "y_train_predict=grid_search_dt.predict(X_train)\n",
    "cm_train=confusion_matrix(y_train,y_train_predict)\n",
    "accuracy_precision(cm_train)"
   ]
  },
  {
   "cell_type": "markdown",
   "metadata": {},
   "source": [
    "Test Set Accuracy"
   ]
  },
  {
   "cell_type": "code",
   "execution_count": 30,
   "metadata": {},
   "outputs": [
    {
     "name": "stdout",
     "output_type": "stream",
     "text": [
      "The accuracy of the model is 0.930735930736:\n",
      "The precision of the model is 0.961:\n",
      "The recall of the model is 0.959081836327:\n"
     ]
    }
   ],
   "source": [
    "y_test_predict=grid_search_dt.predict(X_test)\n",
    "cm_test=confusion_matrix(y_test,y_test_predict)\n",
    "accuracy_precision(cm_test)"
   ]
  },
  {
   "cell_type": "markdown",
   "metadata": {},
   "source": [
    "# Random Forest with GridSearchCV"
   ]
  },
  {
   "cell_type": "code",
   "execution_count": 31,
   "metadata": {
    "collapsed": true
   },
   "outputs": [],
   "source": [
    "from sklearn.ensemble import RandomForestClassifier\n",
    "from sklearn.model_selection import GridSearchCV\n",
    "classifier=RandomForestClassifier(random_state=42,n_estimators=23)\n",
    "parameters=[{'min_samples_split':[2,3],'criterion':['gini','entropy'],'min_samples_leaf':[1,2]}]\n",
    "grid_search_rf=GridSearchCV(estimator=classifier, param_grid=parameters, scoring='accuracy',cv=10, n_jobs=-1)\n",
    "grid_search_rf.fit(X_train,y_train)\n",
    "best_score=grid_search_rf.best_score_\n",
    "best_parameters=grid_search_rf.best_params_\n"
   ]
  },
  {
   "cell_type": "code",
   "execution_count": 32,
   "metadata": {},
   "outputs": [
    {
     "data": {
      "text/plain": [
       "0.95522819179664931"
      ]
     },
     "execution_count": 32,
     "metadata": {},
     "output_type": "execute_result"
    }
   ],
   "source": [
    "best_score"
   ]
  },
  {
   "cell_type": "code",
   "execution_count": 33,
   "metadata": {},
   "outputs": [
    {
     "data": {
      "text/plain": [
       "{'criterion': 'gini', 'min_samples_leaf': 1, 'min_samples_split': 2}"
      ]
     },
     "execution_count": 33,
     "metadata": {},
     "output_type": "execute_result"
    }
   ],
   "source": [
    "best_parameters"
   ]
  },
  {
   "cell_type": "markdown",
   "metadata": {},
   "source": [
    "Training set Acccuracy"
   ]
  },
  {
   "cell_type": "code",
   "execution_count": 34,
   "metadata": {
    "scrolled": true
   },
   "outputs": [
    {
     "name": "stdout",
     "output_type": "stream",
     "text": [
      "The accuracy of the model is 0.999133448873:\n",
      "The precision of the model is 0.998987170831:\n",
      "The recall of the model is 1.0:\n"
     ]
    }
   ],
   "source": [
    "y_train_predict=grid_search_rf.predict(X_train)\n",
    "cm_train=confusion_matrix(y_train,y_train_predict)\n",
    "accuracy_precision(cm_train)"
   ]
  },
  {
   "cell_type": "markdown",
   "metadata": {},
   "source": [
    "Test Set Accuracy"
   ]
  },
  {
   "cell_type": "code",
   "execution_count": 35,
   "metadata": {},
   "outputs": [
    {
     "name": "stdout",
     "output_type": "stream",
     "text": [
      "The accuracy of the model is 0.957575757576:\n",
      "The precision of the model is 0.962172647915:\n",
      "The recall of the model is 0.99001996008:\n"
     ]
    }
   ],
   "source": [
    "y_test_predict=grid_search_rf.predict(X_test)\n",
    "cm_test=confusion_matrix(y_test,y_test_predict)\n",
    "accuracy_precision(cm_test)"
   ]
  },
  {
   "cell_type": "code",
   "execution_count": null,
   "metadata": {
    "collapsed": true
   },
   "outputs": [],
   "source": []
  }
 ],
 "metadata": {
  "kernelspec": {
   "display_name": "Python 3",
   "language": "python",
   "name": "python3"
  },
  "language_info": {
   "codemirror_mode": {
    "name": "ipython",
    "version": 3
   },
   "file_extension": ".py",
   "mimetype": "text/x-python",
   "name": "python",
   "nbconvert_exporter": "python",
   "pygments_lexer": "ipython3",
   "version": "3.6.1"
  }
 },
 "nbformat": 4,
 "nbformat_minor": 2
}
